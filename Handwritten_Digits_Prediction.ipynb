{
  "nbformat": 4,
  "nbformat_minor": 0,
  "metadata": {
    "colab": {
      "provenance": []
    },
    "kernelspec": {
      "name": "python3",
      "display_name": "Python 3"
    },
    "language_info": {
      "name": "python"
    }
  },
  "cells": [
    {
      "cell_type": "markdown",
      "source": [
        "#Handwritten Digit Recognition"
      ],
      "metadata": {
        "id": "cNLEJvFxupbW"
      }
    },
    {
      "cell_type": "markdown",
      "source": [
        "##Step 1: Data Preparation\n",
        "\n",
        "- Load the MNIST dataset, which consists of images of handwritten digits (0-9).\n",
        "- Normalize the pixel values of the images to be in the range [0, 1].\n",
        "- Reshape the images to match the input requirements of a CNN (e.g., (28, 28, 1)).\n",
        "- One-hot encode the labels to convert them into binary vectors.\n",
        "\n"
      ],
      "metadata": {
        "id": "tPY3wEKqueol"
      }
    },
    {
      "cell_type": "markdown",
      "source": [
        "###Importing the necessary Libraries"
      ],
      "metadata": {
        "id": "Kk6_9nSdwjnN"
      }
    },
    {
      "cell_type": "code",
      "source": [
        "# Import necessary libraries\n",
        "import numpy as np\n",
        "import matplotlib.pyplot as plt\n",
        "from keras.datasets import mnist\n",
        "from keras import layers\n",
        "from keras import models\n",
        "from keras.utils import to_categorical"
      ],
      "metadata": {
        "id": "ZjQ1kU8pKVWc"
      },
      "execution_count": null,
      "outputs": []
    },
    {
      "cell_type": "markdown",
      "source": [
        "###Loading the dataset"
      ],
      "metadata": {
        "id": "UKYZzaCywqEa"
      }
    },
    {
      "cell_type": "code",
      "source": [
        "# Load the MNIST dataset\n",
        "(train_images, train_labels), (test_images, test_labels) = mnist.load_data()\n",
        "\n",
        "# Normalize and reshape the data\n",
        "train_images = train_images.reshape((60000, 28, 28, 1))\n",
        "train_images = train_images.astype('float32') / 255\n",
        "\n",
        "test_images = test_images.reshape((10000, 28, 28, 1))\n",
        "test_images = test_images.astype('float32') / 255"
      ],
      "metadata": {
        "id": "3DPGRLdzwqx5"
      },
      "execution_count": null,
      "outputs": []
    },
    {
      "cell_type": "markdown",
      "source": [
        "###Applying One-Hot Encoding"
      ],
      "metadata": {
        "id": "Du3UHBN0w1Uv"
      }
    },
    {
      "cell_type": "code",
      "source": [
        "# One-hot encode the labels\n",
        "train_labels = to_categorical(train_labels)\n",
        "test_labels = to_categorical(test_labels)\n",
        "\n",
        "print(\"Data preparation complete. Ready for training.\")"
      ],
      "metadata": {
        "id": "x_8qQnslw10g"
      },
      "execution_count": null,
      "outputs": []
    },
    {
      "cell_type": "markdown",
      "source": [
        "##Step 2: Build a Convolutional Neural Network (CNN) Model\n",
        "\n",
        "- Create a CNN model with convolutional layers (Conv2D) and max-pooling layers.\n",
        "- Use ReLU activation functions for the convolutional layers.\n",
        "- Add fully connected (dense) layers with ReLU activation functions for classification.\n",
        "- The output layer has 10 units (one for each digit) with a softmax activation for classification.\n",
        "- Compile the model using an optimizer (e.g., Adam) and the categorical cross-entropy loss function, suitable for multi-class classification.\n"
      ],
      "metadata": {
        "id": "DUih-mwVvtx1"
      }
    },
    {
      "cell_type": "code",
      "source": [
        "# Create a CNN model\n",
        "model = models.Sequential()\n",
        "model.add(layers.Conv2D(32, (3, 3), activation='relu', input_shape=(28, 28, 1)))\n",
        "model.add(layers.MaxPooling2D((2, 2)))\n",
        "model.add(layers.Conv2D(64, (3, 3), activation='relu'))\n",
        "model.add(layers.MaxPooling2D((2, 2)))\n",
        "model.add(layers.Conv2D(64, (3, 3), activation='relu'))\n",
        "model.add(layers.Flatten())\n",
        "model.add(layers.Dense(64, activation='relu'))\n",
        "model.add(layers.Dense(10, activation='softmax'))"
      ],
      "metadata": {
        "id": "_nEpCKbEwKrZ"
      },
      "execution_count": null,
      "outputs": []
    },
    {
      "cell_type": "markdown",
      "source": [
        "###Compiling the Model"
      ],
      "metadata": {
        "id": "Qp87qkxoxHss"
      }
    },
    {
      "cell_type": "code",
      "source": [
        "# Compile the model\n",
        "model.compile(optimizer='adam',\n",
        "              loss='categorical_crossentropy',\n",
        "              metrics=['accuracy'])\n",
        "\n",
        "model.summary()\n",
        "print(\"CNN model created. Ready for training.\")"
      ],
      "metadata": {
        "id": "O5_-e4_8xHAV"
      },
      "execution_count": null,
      "outputs": []
    },
    {
      "cell_type": "markdown",
      "source": [
        "##Step 3: Train the CNN Model\n",
        "\n",
        "- Train the model on the training dataset using the `fit` method.\n",
        "- Specify the number of training epochs, batch size, and validation split for monitoring the model's performance.\n",
        "- During training, the model's weights are updated to minimize the categorical cross-entropy loss on the training data.\n"
      ],
      "metadata": {
        "id": "ZpTTn9gKv39k"
      }
    },
    {
      "cell_type": "code",
      "source": [
        "# Train the model\n",
        "history = model.fit(train_images, train_labels, epochs=5, batch_size=64, validation_split=0.2)\n",
        "\n",
        "# Evaluate the model on the test data\n",
        "test_loss, test_acc = model.evaluate(test_images, test_labels)\n",
        "\n",
        "print(f\"Test accuracy: {test_acc * 100:.2f}%\")"
      ],
      "metadata": {
        "id": "n51DNc9JwMAn"
      },
      "execution_count": null,
      "outputs": []
    },
    {
      "cell_type": "markdown",
      "source": [
        "##Step 4: Make Predictions\n",
        "\n",
        "- Use the trained model to make predictions on new handwritten digit images.\n",
        "- Convert the model's predictions, which are probability distributions over classes, into digit labels by selecting the class with the highest probability (argmax).\n",
        "- Display the test images along with their predicted labels for visual inspection.\n"
      ],
      "metadata": {
        "id": "6eETKXUcv69m"
      }
    },
    {
      "cell_type": "code",
      "source": [
        "# Make predictions on a few test images\n",
        "predictions = model.predict(test_images[:10])\n",
        "\n",
        "# Convert predictions to digit labels\n",
        "predicted_labels = np.argmax(predictions, axis=1)"
      ],
      "metadata": {
        "id": "0vz71_M8wQQy"
      },
      "execution_count": null,
      "outputs": []
    },
    {
      "cell_type": "markdown",
      "source": [
        "###Function for Plotting the graph"
      ],
      "metadata": {
        "id": "WCInaoPrxU3Y"
      }
    },
    {
      "cell_type": "code",
      "source": [
        "# Display the predicted labels and corresponding images\n",
        "for i in range(10):\n",
        "    plt.subplot(1, 10, i + 1)\n",
        "    plt.imshow(test_images[i].reshape(28, 28), cmap='gray')\n",
        "    plt.title(f\"{predicted_labels[i]}\")\n",
        "    plt.axis('off')\n",
        "\n",
        "plt.show()"
      ],
      "metadata": {
        "id": "ZMRXS8qIxVW5"
      },
      "execution_count": null,
      "outputs": []
    },
    {
      "cell_type": "markdown",
      "source": [
        "##Step 5: Save and Deploy the Model\n",
        "\n",
        "- Save the trained model to a file, often in the format of a \".h5\" file.\n",
        "- This saved model can be loaded and used for digit recognition in other applications or integrated into a web or mobile application.\n"
      ],
      "metadata": {
        "id": "c1O7LpH4v_WS"
      }
    },
    {
      "cell_type": "code",
      "source": [
        "# Save the trained model to a file\n",
        "model.save('mnist_digit_recognition_model.h5')\n",
        "\n",
        "print(\"Model saved as 'mnist_digit_recognition_model.h5'.\")"
      ],
      "metadata": {
        "id": "302Bc2nvKayC"
      },
      "execution_count": null,
      "outputs": []
    }
  ]
}